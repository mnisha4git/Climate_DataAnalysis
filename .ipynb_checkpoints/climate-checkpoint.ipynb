{
 "cells": [
  {
   "cell_type": "code",
   "execution_count": 1,
   "metadata": {},
   "outputs": [],
   "source": [
    "%matplotlib inline\n",
    "from matplotlib import style\n",
    "style.use('fivethirtyeight')\n",
    "import matplotlib.pyplot as plt"
   ]
  },
  {
   "cell_type": "code",
   "execution_count": 2,
   "metadata": {},
   "outputs": [],
   "source": [
    "import numpy as np\n",
    "import pandas as pd"
   ]
  },
  {
   "cell_type": "code",
   "execution_count": 3,
   "metadata": {},
   "outputs": [],
   "source": [
    "import datetime as dt"
   ]
  },
  {
   "cell_type": "markdown",
   "metadata": {},
   "source": [
    "# Reflect Tables into SQLAlchemy ORM"
   ]
  },
  {
   "cell_type": "code",
   "execution_count": 4,
   "metadata": {},
   "outputs": [],
   "source": [
    "# Python SQL toolkit and Object Relational Mapper\n",
    "import sqlalchemy\n",
    "from sqlalchemy.ext.automap import automap_base\n",
    "from sqlalchemy.orm import Session\n",
    "from sqlalchemy import create_engine, func, inspect"
   ]
  },
  {
   "cell_type": "code",
   "execution_count": 5,
   "metadata": {},
   "outputs": [],
   "source": [
    "engine = create_engine(\"sqlite:///Resources/hawaii.sqlite\")"
   ]
  },
  {
   "cell_type": "code",
   "execution_count": 6,
   "metadata": {},
   "outputs": [],
   "source": [
    "# reflect an existing database into a new model\n",
    "Base = automap_base()\n",
    "# reflect the tables\n",
    "Base.prepare(engine, reflect=True)"
   ]
  },
  {
   "cell_type": "code",
   "execution_count": 7,
   "metadata": {},
   "outputs": [
    {
     "data": {
      "text/plain": [
       "['measurement', 'station']"
      ]
     },
     "execution_count": 7,
     "metadata": {},
     "output_type": "execute_result"
    }
   ],
   "source": [
    "# We can view all of the classes that automap found\n",
    "Base.classes.keys()"
   ]
  },
  {
   "cell_type": "code",
   "execution_count": 8,
   "metadata": {},
   "outputs": [],
   "source": [
    "# Save references to each table\n",
    "Measurement = Base.classes.measurement\n",
    "Station = Base.classes.station"
   ]
  },
  {
   "cell_type": "code",
   "execution_count": 9,
   "metadata": {},
   "outputs": [],
   "source": [
    "# Create our session (link) from Python to the DB\n",
    "session = Session(engine)"
   ]
  },
  {
   "cell_type": "code",
   "execution_count": 10,
   "metadata": {},
   "outputs": [
    {
     "data": {
      "text/plain": [
       "[(1, 'USC00519397', '2010-01-01', 0.08, 65.0),\n",
       " (2, 'USC00519397', '2010-01-02', 0.0, 63.0),\n",
       " (3, 'USC00519397', '2010-01-03', 0.0, 74.0),\n",
       " (4, 'USC00519397', '2010-01-04', 0.0, 76.0),\n",
       " (5, 'USC00519397', '2010-01-06', None, 73.0),\n",
       " (6, 'USC00519397', '2010-01-07', 0.06, 70.0),\n",
       " (7, 'USC00519397', '2010-01-08', 0.0, 64.0),\n",
       " (8, 'USC00519397', '2010-01-09', 0.0, 68.0),\n",
       " (9, 'USC00519397', '2010-01-10', 0.0, 73.0),\n",
       " (10, 'USC00519397', '2010-01-11', 0.01, 64.0)]"
      ]
     },
     "execution_count": 10,
     "metadata": {},
     "output_type": "execute_result"
    }
   ],
   "source": [
    "engine.execute('SELECT * FROM Measurement LIMIT 10').fetchall()"
   ]
  },
  {
   "cell_type": "code",
   "execution_count": 11,
   "metadata": {},
   "outputs": [
    {
     "data": {
      "text/plain": [
       "[(1, 'USC00519397', 'WAIKIKI 717.2, HI US', 21.2716, -157.8168, 3.0),\n",
       " (2, 'USC00513117', 'KANEOHE 838.1, HI US', 21.4234, -157.8015, 14.6),\n",
       " (3, 'USC00514830', 'KUALOA RANCH HEADQUARTERS 886.9, HI US', 21.5213, -157.8374, 7.0),\n",
       " (4, 'USC00517948', 'PEARL CITY, HI US', 21.3934, -157.9751, 11.9),\n",
       " (5, 'USC00518838', 'UPPER WAHIAWA 874.3, HI US', 21.4992, -158.0111, 306.6),\n",
       " (6, 'USC00519523', 'WAIMANALO EXPERIMENTAL FARM, HI US', 21.33556, -157.71139, 19.5),\n",
       " (7, 'USC00519281', 'WAIHEE 837.5, HI US', 21.45167, -157.84888999999998, 32.9),\n",
       " (8, 'USC00511918', 'HONOLULU OBSERVATORY 702.2, HI US', 21.3152, -157.9992, 0.9),\n",
       " (9, 'USC00516128', 'MANOA LYON ARBO 785.2, HI US', 21.3331, -157.8025, 152.4)]"
      ]
     },
     "execution_count": 11,
     "metadata": {},
     "output_type": "execute_result"
    }
   ],
   "source": [
    "engine.execute('SELECT * FROM Station LIMIT 10').fetchall()"
   ]
  },
  {
   "cell_type": "code",
   "execution_count": 12,
   "metadata": {},
   "outputs": [
    {
     "data": {
      "text/plain": [
       "['measurement', 'station']"
      ]
     },
     "execution_count": 12,
     "metadata": {},
     "output_type": "execute_result"
    }
   ],
   "source": [
    "inspector = inspect(engine)\n",
    "inspector.get_table_names()"
   ]
  },
  {
   "cell_type": "code",
   "execution_count": 13,
   "metadata": {},
   "outputs": [
    {
     "name": "stdout",
     "output_type": "stream",
     "text": [
      "id INTEGER\n",
      "station TEXT\n",
      "date TEXT\n",
      "prcp FLOAT\n",
      "tobs FLOAT\n"
     ]
    }
   ],
   "source": [
    "measurement_columns = inspector.get_columns('measurement')\n",
    "for m_c in measurement_columns:\n",
    "    print(m_c['name'], m_c[\"type\"])"
   ]
  },
  {
   "cell_type": "code",
   "execution_count": 14,
   "metadata": {},
   "outputs": [
    {
     "name": "stdout",
     "output_type": "stream",
     "text": [
      "id INTEGER\n",
      "station TEXT\n",
      "name TEXT\n",
      "latitude FLOAT\n",
      "longitude FLOAT\n",
      "elevation FLOAT\n"
     ]
    }
   ],
   "source": [
    "station_columns = inspector.get_columns('station')\n",
    "for m_c in station_columns:\n",
    "    print(m_c['name'], m_c[\"type\"])"
   ]
  },
  {
   "cell_type": "markdown",
   "metadata": {},
   "source": [
    "# Exploratory Climate Analysis"
   ]
  },
  {
   "cell_type": "code",
   "execution_count": 19,
   "metadata": {},
   "outputs": [],
   "source": [
    "# Design a query to retrieve the last 12 months of precipitation data and plot the results\n",
    "\n",
    "Measurement = Base.classes.measurement\n",
    "last_date = session.query(Measurement.date).order_by(Measurement.date.desc()).first()\n",
    "\n",
    "# Calculate the date 1 year ago from today\n",
    "last_year = dt.date(2017, 8, 23) - dt.timedelta(days=365)\n",
    "\n",
    "# Perform a query to retrieve the data and precipitation scores\n",
    "Precipitation = session.query(Measurement.date, Measurement.prcp).filter(Measurement.date > last_year).\\\n",
    "            order_by(Measurement.date.desc()).all()"
   ]
  },
  {
   "cell_type": "code",
   "execution_count": 20,
   "metadata": {},
   "outputs": [
    {
     "data": {
      "text/html": [
       "<div>\n",
       "<style scoped>\n",
       "    .dataframe tbody tr th:only-of-type {\n",
       "        vertical-align: middle;\n",
       "    }\n",
       "\n",
       "    .dataframe tbody tr th {\n",
       "        vertical-align: top;\n",
       "    }\n",
       "\n",
       "    .dataframe thead th {\n",
       "        text-align: right;\n",
       "    }\n",
       "</style>\n",
       "<table border=\"1\" class=\"dataframe\">\n",
       "  <thead>\n",
       "    <tr style=\"text-align: right;\">\n",
       "      <th></th>\n",
       "      <th>prcp</th>\n",
       "    </tr>\n",
       "    <tr>\n",
       "      <th>date</th>\n",
       "      <th></th>\n",
       "    </tr>\n",
       "  </thead>\n",
       "  <tbody>\n",
       "    <tr>\n",
       "      <th>2016-08-24</th>\n",
       "      <td>1.45</td>\n",
       "    </tr>\n",
       "    <tr>\n",
       "      <th>2016-08-24</th>\n",
       "      <td>0.08</td>\n",
       "    </tr>\n",
       "    <tr>\n",
       "      <th>2016-08-24</th>\n",
       "      <td>2.15</td>\n",
       "    </tr>\n",
       "    <tr>\n",
       "      <th>2016-08-24</th>\n",
       "      <td>2.15</td>\n",
       "    </tr>\n",
       "    <tr>\n",
       "      <th>2016-08-24</th>\n",
       "      <td>NaN</td>\n",
       "    </tr>\n",
       "  </tbody>\n",
       "</table>\n",
       "</div>"
      ],
      "text/plain": [
       "            prcp\n",
       "date            \n",
       "2016-08-24  1.45\n",
       "2016-08-24  0.08\n",
       "2016-08-24  2.15\n",
       "2016-08-24  2.15\n",
       "2016-08-24   NaN"
      ]
     },
     "execution_count": 20,
     "metadata": {},
     "output_type": "execute_result"
    }
   ],
   "source": [
    "# Save the query results as a Pandas DataFrame and set the index to the date column\n",
    "df = pd.DataFrame(Precipitation[:], columns=['date', 'prcp'])\n",
    "df.set_index('date', inplace=True)\n",
    "\n",
    "# Sort the dataframe by date\n",
    "df = df.sort_index()\n",
    "df.head()"
   ]
  },
  {
   "cell_type": "code",
   "execution_count": 21,
   "metadata": {},
   "outputs": [
    {
     "data": {
      "image/png": "[encoded data removed]",
      "text/plain": [
       "<Figure size 1080x720 with 1 Axes>"
      ]
     },
     "metadata": {},
     "output_type": "display_data"
    }
   ],
   "source": [
    "# Use Pandas Plotting with Matplotlib to plot the data\n",
    "df.plot(kind=\"line\",linewidth=4,figsize=(15,10))\n",
    "plt.style.use('fivethirtyeight')\n",
    "plt.xlabel(\"Date\")\n",
    "plt.title(\"Precipitation Analysis (From 8/24/16 to 8/23/17)\")\n",
    "\n",
    "# Rotate the xticks for the dates\n",
    "\n",
    "plt.xticks(rotation=45)\n",
    "plt.legend([\"Precipitation\"])\n",
    "plt.tight_layout()\n",
    "plt.show()"
   ]
  },
  {
   "cell_type": "code",
   "execution_count": 22,
   "metadata": {},
   "outputs": [
    {
     "data": {
      "text/html": [
       "<div>\n",
       "<style scoped>\n",
       "    .dataframe tbody tr th:only-of-type {\n",
       "        vertical-align: middle;\n",
       "    }\n",
       "\n",
       "    .dataframe tbody tr th {\n",
       "        vertical-align: top;\n",
       "    }\n",
       "\n",
       "    .dataframe thead th {\n",
       "        text-align: right;\n",
       "    }\n",
       "</style>\n",
       "<table border=\"1\" class=\"dataframe\">\n",
       "  <thead>\n",
       "    <tr style=\"text-align: right;\">\n",
       "      <th></th>\n",
       "      <th>prcp</th>\n",
       "    </tr>\n",
       "  </thead>\n",
       "  <tbody>\n",
       "    <tr>\n",
       "      <th>count</th>\n",
       "      <td>2015.000000</td>\n",
       "    </tr>\n",
       "    <tr>\n",
       "      <th>mean</th>\n",
       "      <td>0.176462</td>\n",
       "    </tr>\n",
       "    <tr>\n",
       "      <th>std</th>\n",
       "      <td>0.460288</td>\n",
       "    </tr>\n",
       "    <tr>\n",
       "      <th>min</th>\n",
       "      <td>0.000000</td>\n",
       "    </tr>\n",
       "    <tr>\n",
       "      <th>25%</th>\n",
       "      <td>0.000000</td>\n",
       "    </tr>\n",
       "    <tr>\n",
       "      <th>50%</th>\n",
       "      <td>0.020000</td>\n",
       "    </tr>\n",
       "    <tr>\n",
       "      <th>75%</th>\n",
       "      <td>0.130000</td>\n",
       "    </tr>\n",
       "    <tr>\n",
       "      <th>max</th>\n",
       "      <td>6.700000</td>\n",
       "    </tr>\n",
       "  </tbody>\n",
       "</table>\n",
       "</div>"
      ],
      "text/plain": [
       "              prcp\n",
       "count  2015.000000\n",
       "mean      0.176462\n",
       "std       0.460288\n",
       "min       0.000000\n",
       "25%       0.000000\n",
       "50%       0.020000\n",
       "75%       0.130000\n",
       "max       6.700000"
      ]
     },
     "execution_count": 22,
     "metadata": {},
     "output_type": "execute_result"
    }
   ],
   "source": [
    "# Use Pandas to calcualte the summary statistics for the precipitation data\n",
    "\n",
    "df.describe()"
   ]
  },
  {
   "cell_type": "code",
   "execution_count": 23,
   "metadata": {},
   "outputs": [
    {
     "name": "stdout",
     "output_type": "stream",
     "text": [
      "There are 9 stations.\n"
     ]
    }
   ],
   "source": [
    "# How many stations are available in this dataset?\n",
    "\n",
    "stations_count = session.query(Measurement).group_by(Measurement.station).count()\n",
    "print(\"There are {} stations.\".format(stations_count))"
   ]
  },
  {
   "cell_type": "code",
   "execution_count": 24,
   "metadata": {},
   "outputs": [
    {
     "data": {
      "text/plain": [
       "[('USC00519281', 2772),\n",
       " ('USC00519397', 2724),\n",
       " ('USC00513117', 2709),\n",
       " ('USC00519523', 2669),\n",
       " ('USC00516128', 2612),\n",
       " ('USC00514830', 2202),\n",
       " ('USC00511918', 1979),\n",
       " ('USC00517948', 1372),\n",
       " ('USC00518838', 511)]"
      ]
     },
     "execution_count": 24,
     "metadata": {},
     "output_type": "execute_result"
    }
   ],
   "source": [
    "# What are the most active stations?\n",
    "# List the stations and the counts in descending order.\n",
    "active_stations = session.query(Measurement.station, func.count(Measurement.tobs)).group_by(Measurement.station).\\\n",
    "               order_by(func.count(Measurement.tobs).desc()).all()\n",
    "active_stations"
   ]
  },
  {
   "cell_type": "code",
   "execution_count": 25,
   "metadata": {},
   "outputs": [
    {
     "data": {
      "text/plain": [
       "[('USC00519281', 54.0, 85.0, 71.66378066378067)]"
      ]
     },
     "execution_count": 25,
     "metadata": {},
     "output_type": "execute_result"
    }
   ],
   "source": [
    "# Using the station id from the previous query, calculate the lowest temperature recorded, \n",
    "# highest temperature recorded, and average temperature most active station?\n",
    "\n",
    "most_active_station = 'USC00519281';\n",
    "\n",
    "active_station_stat = session.query(Measurement.station, func.min(Measurement.tobs), func.max(Measurement.tobs), func.avg(Measurement.tobs)).\\\n",
    "                filter(Measurement.station == most_active_station).all()\n",
    "\n",
    "active_station_stat"
   ]
  },
  {
   "cell_type": "code",
   "execution_count": 26,
   "metadata": {},
   "outputs": [
    {
     "data": {
      "text/plain": [
       "[('USC00519397', '2016-08-24', 79.0),\n",
       " ('USC00519397', '2016-08-25', 80.0),\n",
       " ('USC00519397', '2016-08-26', 79.0),\n",
       " ('USC00519397', '2016-08-27', 77.0),\n",
       " ('USC00519397', '2016-08-28', 78.0),\n",
       " ('USC00519397', '2016-08-29', 78.0),\n",
       " ('USC00519397', '2016-08-30', 79.0),\n",
       " ('USC00519397', '2016-08-31', 80.0),\n",
       " ('USC00519397', '2016-09-01', 81.0),\n",
       " ('USC00519397', '2016-09-02', 80.0),\n",
       " ('USC00519397', '2016-09-03', 79.0),\n",
       " ('USC00519397', '2016-09-04', 75.0),\n",
       " ('USC00519397', '2016-09-05', 79.0),\n",
       " ('USC00519397', '2016-09-06', 76.0),\n",
       " ('USC00519397', '2016-09-07', 76.0),\n",
       " ('USC00519397', '2016-09-08', 80.0),\n",
       " ('USC00519397', '2016-09-09', 79.0),\n",
       " ('USC00519397', '2016-09-10', 78.0),\n",
       " ('USC00519397', '2016-09-11', 76.0),\n",
       " ('USC00519397', '2016-09-12', 78.0),\n",
       " ('USC00519397', '2016-09-13', 78.0),\n",
       " ('USC00519397', '2016-09-14', 75.0),\n",
       " ('USC00519397', '2016-09-15', 79.0),\n",
       " ('USC00519397', '2016-09-16', 80.0),\n",
       " ('USC00519397', '2016-09-17', 79.0),\n",
       " ('USC00519397', '2016-09-18', 81.0),\n",
       " ('USC00519397', '2016-09-19', 77.0),\n",
       " ('USC00519397', '2016-09-20', 77.0),\n",
       " ('USC00519397', '2016-09-21', 78.0),\n",
       " ('USC00519397', '2016-09-22', 76.0),\n",
       " ('USC00519397', '2016-09-23', 82.0),\n",
       " ('USC00519397', '2016-09-24', 81.0),\n",
       " ('USC00519397', '2016-09-25', 78.0),\n",
       " ('USC00519397', '2016-09-26', 80.0),\n",
       " ('USC00519397', '2016-09-27', 80.0),\n",
       " ('USC00519397', '2016-09-28', 79.0),\n",
       " ('USC00519397', '2016-09-29', 80.0),\n",
       " ('USC00519397', '2016-09-30', 80.0),\n",
       " ('USC00519397', '2016-10-01', 80.0),\n",
       " ('USC00519397', '2016-10-02', 79.0),\n",
       " ('USC00519397', '2016-10-03', 79.0),\n",
       " ('USC00519397', '2016-10-04', 79.0),\n",
       " ('USC00519397', '2016-10-05', 80.0),\n",
       " ('USC00519397', '2016-10-06', 80.0),\n",
       " ('USC00519397', '2016-10-07', 79.0),\n",
       " ('USC00519397', '2016-10-08', 78.0),\n",
       " ('USC00519397', '2016-10-09', 76.0),\n",
       " ('USC00519397', '2016-10-10', 75.0),\n",
       " ('USC00519397', '2016-10-11', 80.0),\n",
       " ('USC00519397', '2016-10-12', 80.0),\n",
       " ('USC00519397', '2016-10-13', 79.0),\n",
       " ('USC00519397', '2016-10-14', 80.0),\n",
       " ('USC00519397', '2016-10-15', 79.0),\n",
       " ('USC00519397', '2016-10-16', 78.0),\n",
       " ('USC00519397', '2016-10-17', 78.0),\n",
       " ('USC00519397', '2016-10-18', 80.0),\n",
       " ('USC00519397', '2016-10-19', 81.0),\n",
       " ('USC00519397', '2016-10-20', 79.0),\n",
       " ('USC00519397', '2016-10-21', 77.0),\n",
       " ('USC00519397', '2016-10-22', 79.0),\n",
       " ('USC00519397', '2016-10-23', 78.0),\n",
       " ('USC00519397', '2016-10-24', 77.0),\n",
       " ('USC00519397', '2016-10-25', 77.0),\n",
       " ('USC00519397', '2016-10-26', 78.0),\n",
       " ('USC00519397', '2016-10-27', 77.0),\n",
       " ('USC00519397', '2016-10-28', 78.0),\n",
       " ('USC00519397', '2016-10-29', 77.0),\n",
       " ('USC00519397', '2016-10-30', 76.0),\n",
       " ('USC00519397', '2016-10-31', 77.0),\n",
       " ('USC00519397', '2016-11-01', 77.0),\n",
       " ('USC00519397', '2016-11-02', 77.0),\n",
       " ('USC00519397', '2016-11-03', 77.0),\n",
       " ('USC00519397', '2016-11-04', 77.0),\n",
       " ('USC00519397', '2016-11-05', 76.0),\n",
       " ('USC00519397', '2016-11-06', 75.0),\n",
       " ('USC00519397', '2016-11-07', 71.0),\n",
       " ('USC00519397', '2016-11-08', 71.0),\n",
       " ('USC00519397', '2016-11-09', 71.0),\n",
       " ('USC00519397', '2016-11-10', 71.0),\n",
       " ('USC00519397', '2016-11-11', 72.0),\n",
       " ('USC00519397', '2016-11-12', 71.0),\n",
       " ('USC00519397', '2016-11-13', 72.0),\n",
       " ('USC00519397', '2016-11-14', 77.0),\n",
       " ('USC00519397', '2016-11-15', 77.0),\n",
       " ('USC00519397', '2016-11-16', 77.0),\n",
       " ('USC00519397', '2016-11-17', 77.0),\n",
       " ('USC00519397', '2016-11-18', 77.0),\n",
       " ('USC00519397', '2016-11-19', 75.0),\n",
       " ('USC00519397', '2016-11-20', 76.0),\n",
       " ('USC00519397', '2016-11-21', 76.0),\n",
       " ('USC00519397', '2016-11-22', 75.0),\n",
       " ('USC00519397', '2016-11-23', 72.0),\n",
       " ('USC00519397', '2016-11-24', 74.0),\n",
       " ('USC00519397', '2016-11-25', 75.0),\n",
       " ('USC00519397', '2016-11-26', 73.0),\n",
       " ('USC00519397', '2016-11-27', 76.0),\n",
       " ('USC00519397', '2016-11-28', 75.0),\n",
       " ('USC00519397', '2016-11-29', 68.0),\n",
       " ('USC00519397', '2016-11-30', 75.0),\n",
       " ('USC00519397', '2016-12-01', 75.0),\n",
       " ('USC00519397', '2016-12-02', 72.0),\n",
       " ('USC00519397', '2016-12-03', 69.0),\n",
       " ('USC00519397', '2016-12-04', 71.0),\n",
       " ('USC00519397', '2016-12-05', 68.0),\n",
       " ('USC00519397', '2016-12-06', 67.0),\n",
       " ('USC00519397', '2016-12-07', 69.0),\n",
       " ('USC00519397', '2016-12-08', 73.0),\n",
       " ('USC00519397', '2016-12-09', 70.0),\n",
       " ('USC00519397', '2016-12-10', 70.0),\n",
       " ('USC00519397', '2016-12-11', 70.0),\n",
       " ('USC00519397', '2016-12-12', 66.0),\n",
       " ('USC00519397', '2016-12-13', 67.0),\n",
       " ('USC00519397', '2016-12-14', 70.0),\n",
       " ('USC00519397', '2016-12-15', 66.0),\n",
       " ('USC00519397', '2016-12-16', 62.0),\n",
       " ('USC00519397', '2016-12-17', 71.0),\n",
       " ('USC00519397', '2016-12-18', 73.0),\n",
       " ('USC00519397', '2016-12-19', 69.0),\n",
       " ('USC00519397', '2016-12-20', 77.0),\n",
       " ('USC00519397', '2016-12-21', 74.0),\n",
       " ('USC00519397', '2016-12-22', 71.0),\n",
       " ('USC00519397', '2016-12-23', 72.0),\n",
       " ('USC00519397', '2016-12-24', 74.0),\n",
       " ('USC00519397', '2016-12-25', 74.0),\n",
       " ('USC00519397', '2016-12-26', 74.0),\n",
       " ('USC00519397', '2016-12-27', 74.0),\n",
       " ('USC00519397', '2016-12-28', 71.0),\n",
       " ('USC00519397', '2016-12-29', 73.0),\n",
       " ('USC00519397', '2016-12-30', 69.0),\n",
       " ('USC00519397', '2016-12-31', 66.0),\n",
       " ('USC00519397', '2017-01-01', 62.0),\n",
       " ('USC00519397', '2017-01-02', 66.0),\n",
       " ('USC00519397', '2017-01-03', 63.0),\n",
       " ('USC00519397', '2017-01-04', 62.0),\n",
       " ('USC00519397', '2017-01-05', 63.0),\n",
       " ('USC00519397', '2017-01-06', 64.0),\n",
       " ('USC00519397', '2017-01-07', 66.0),\n",
       " ('USC00519397', '2017-01-08', 60.0),\n",
       " ('USC00519397', '2017-01-09', 64.0),\n",
       " ('USC00519397', '2017-01-10', 63.0),\n",
       " ('USC00519397', '2017-01-11', 78.0),\n",
       " ('USC00519397', '2017-01-12', 67.0),\n",
       " ('USC00519397', '2017-01-13', 67.0),\n",
       " ('USC00519397', '2017-01-14', 65.0),\n",
       " ('USC00519397', '2017-01-15', 66.0),\n",
       " ('USC00519397', '2017-01-16', 67.0),\n",
       " ('USC00519397', '2017-01-17', 66.0),\n",
       " ('USC00519397', '2017-01-18', 72.0),\n",
       " ('USC00519397', '2017-01-19', 73.0),\n",
       " ('USC00519397', '2017-01-20', 71.0),\n",
       " ('USC00519397', '2017-01-21', 72.0),\n",
       " ('USC00519397', '2017-01-22', 72.0),\n",
       " ('USC00519397', '2017-01-23', 72.0),\n",
       " ('USC00519397', '2017-01-24', 69.0),\n",
       " ('USC00519397', '2017-01-25', 72.0),\n",
       " ('USC00519397', '2017-01-26', 71.0),\n",
       " ('USC00519397', '2017-01-27', 65.0),\n",
       " ('USC00519397', '2017-01-28', 64.0),\n",
       " ('USC00519397', '2017-01-29', 67.0),\n",
       " ('USC00519397', '2017-01-30', 67.0),\n",
       " ('USC00519397', '2017-01-31', 68.0),\n",
       " ('USC00519397', '2017-02-01', 70.0),\n",
       " ('USC00519397', '2017-02-02', 61.0),\n",
       " ('USC00519397', '2017-02-03', 65.0),\n",
       " ('USC00519397', '2017-02-04', 72.0),\n",
       " ('USC00519397', '2017-02-05', 73.0),\n",
       " ('USC00519397', '2017-02-06', 76.0),\n",
       " ('USC00519397', '2017-02-07', 64.0),\n",
       " ('USC00519397', '2017-02-08', 62.0),\n",
       " ('USC00519397', '2017-02-09', 61.0),\n",
       " ('USC00519397', '2017-02-10', 71.0),\n",
       " ('USC00519397', '2017-02-11', 69.0),\n",
       " ('USC00519397', '2017-02-12', 68.0),\n",
       " ('USC00519397', '2017-02-13', 74.0),\n",
       " ('USC00519397', '2017-02-14', 75.0),\n",
       " ('USC00519397', '2017-02-15', 75.0),\n",
       " ('USC00519397', '2017-02-16', 71.0),\n",
       " ('USC00519397', '2017-02-17', 71.0),\n",
       " ('USC00519397', '2017-02-18', 68.0),\n",
       " ('USC00519397', '2017-02-19', 69.0),\n",
       " ('USC00519397', '2017-02-20', 71.0),\n",
       " ('USC00519397', '2017-02-21', 70.0),\n",
       " ('USC00519397', '2017-02-22', 72.0),\n",
       " ('USC00519397', '2017-02-23', 74.0),\n",
       " ('USC00519397', '2017-02-24', 70.0),\n",
       " ('USC00519397', '2017-02-25', 64.0),\n",
       " ('USC00519397', '2017-02-26', 65.0),\n",
       " ('USC00519397', '2017-02-27', 72.0),\n",
       " ('USC00519397', '2017-02-28', 74.0),\n",
       " ('USC00519397', '2017-03-01', 66.0),\n",
       " ('USC00519397', '2017-03-02', 73.0),\n",
       " ('USC00519397', '2017-03-03', 69.0),\n",
       " ('USC00519397', '2017-03-04', 74.0),\n",
       " ('USC00519397', '2017-03-05', 71.0),\n",
       " ('USC00519397', '2017-03-06', 69.0),\n",
       " ('USC00519397', '2017-03-07', 68.0),\n",
       " ('USC00519397', '2017-03-08', 71.0),\n",
       " ('USC00519397', '2017-03-09', 72.0),\n",
       " ('USC00519397', '2017-03-10', 68.0),\n",
       " ('USC00519397', '2017-03-11', 71.0),\n",
       " ('USC00519397', '2017-03-12', 74.0),\n",
       " ('USC00519397', '2017-03-13', 71.0),\n",
       " ('USC00519397', '2017-03-14', 71.0),\n",
       " ('USC00519397', '2017-03-15', 71.0),\n",
       " ('USC00519397', '2017-03-16', 70.0),\n",
       " ('USC00519397', '2017-03-17', 72.0),\n",
       " ('USC00519397', '2017-03-18', 69.0),\n",
       " ('USC00519397', '2017-03-19', 73.0),\n",
       " ('USC00519397', '2017-03-20', 75.0),\n",
       " ('USC00519397', '2017-03-21', 75.0),\n",
       " ('USC00519397', '2017-03-22', 74.0),\n",
       " ('USC00519397', '2017-03-23', 70.0),\n",
       " ('USC00519397', '2017-03-24', 73.0),\n",
       " ('USC00519397', '2017-03-25', 76.0),\n",
       " ('USC00519397', '2017-03-26', 76.0),\n",
       " ('USC00519397', '2017-03-27', 75.0),\n",
       " ('USC00519397', '2017-03-28', 77.0),\n",
       " ('USC00519397', '2017-03-29', 76.0),\n",
       " ('USC00519397', '2017-03-30', 77.0),\n",
       " ('USC00519397', '2017-03-31', 76.0),\n",
       " ('USC00519397', '2017-04-01', 76.0),\n",
       " ('USC00519397', '2017-04-02', 76.0),\n",
       " ('USC00519397', '2017-04-03', 77.0),\n",
       " ('USC00519397', '2017-04-04', 76.0),\n",
       " ('USC00519397', '2017-04-05', 78.0),\n",
       " ('USC00519397', '2017-04-06', 77.0),\n",
       " ('USC00519397', '2017-04-07', 77.0),\n",
       " ('USC00519397', '2017-04-08', 77.0),\n",
       " ('USC00519397', '2017-04-09', 72.0),\n",
       " ('USC00519397', '2017-04-10', 75.0),\n",
       " ('USC00519397', '2017-04-11', 79.0),\n",
       " ('USC00519397', '2017-04-12', 78.0),\n",
       " ('USC00519397', '2017-04-13', 77.0),\n",
       " ('USC00519397', '2017-04-14', 75.0),\n",
       " ('USC00519397', '2017-04-15', 73.0),\n",
       " ('USC00519397', '2017-04-16', 74.0),\n",
       " ('USC00519397', '2017-04-17', 74.0),\n",
       " ('USC00519397', '2017-04-18', 75.0),\n",
       " ('USC00519397', '2017-04-19', 74.0),\n",
       " ('USC00519397', '2017-04-20', 78.0),\n",
       " ('USC00519397', '2017-04-21', 73.0),\n",
       " ('USC00519397', '2017-04-22', 76.0),\n",
       " ('USC00519397', '2017-04-23', 77.0),\n",
       " ('USC00519397', '2017-04-24', 77.0),\n",
       " ('USC00519397', '2017-04-25', 77.0),\n",
       " ('USC00519397', '2017-04-26', 77.0),\n",
       " ('USC00519397', '2017-04-27', 78.0),\n",
       " ('USC00519397', '2017-04-28', 76.0),\n",
       " ('USC00519397', '2017-04-29', 72.0),\n",
       " ('USC00519397', '2017-04-30', 63.0),\n",
       " ('USC00519397', '2017-05-01', 75.0),\n",
       " ('USC00519397', '2017-05-02', 78.0),\n",
       " ('USC00519397', '2017-05-03', 78.0),\n",
       " ('USC00519397', '2017-05-04', 78.0),\n",
       " ('USC00519397', '2017-05-05', 79.0),\n",
       " ('USC00519397', '2017-05-06', 79.0),\n",
       " ('USC00519397', '2017-05-07', 79.0),\n",
       " ('USC00519397', '2017-05-08', 77.0),\n",
       " ('USC00519397', '2017-05-10', 78.0),\n",
       " ('USC00519397', '2017-05-11', 78.0),\n",
       " ('USC00519397', '2017-05-12', 79.0),\n",
       " ('USC00519397', '2017-05-13', 79.0),\n",
       " ('USC00519397', '2017-05-14', 77.0),\n",
       " ('USC00519397', '2017-05-15', 78.0),\n",
       " ('USC00519397', '2017-05-16', 78.0),\n",
       " ('USC00519397', '2017-05-17', 78.0),\n",
       " ('USC00519397', '2017-05-18', 73.0),\n",
       " ('USC00519397', '2017-05-19', 76.0),\n",
       " ('USC00519397', '2017-05-20', 78.0),\n",
       " ('USC00519397', '2017-05-21', 76.0),\n",
       " ('USC00519397', '2017-05-22', 77.0),\n",
       " ('USC00519397', '2017-05-23', 87.0),\n",
       " ('USC00519397', '2017-05-24', 77.0),\n",
       " ('USC00519397', '2017-05-25', 77.0),\n",
       " ('USC00519397', '2017-05-27', 74.0),\n",
       " ('USC00519397', '2017-05-28', 76.0),\n",
       " ('USC00519397', '2017-05-29', 75.0),\n",
       " ('USC00519397', '2017-05-30', 76.0),\n",
       " ('USC00519397', '2017-05-31', 79.0),\n",
       " ('USC00519397', '2017-06-01', 79.0),\n",
       " ('USC00519397', '2017-06-02', 79.0),\n",
       " ('USC00519397', '2017-06-03', 79.0),\n",
       " ('USC00519397', '2017-06-04', 79.0),\n",
       " ('USC00519397', '2017-06-05', 80.0),\n",
       " ('USC00519397', '2017-06-06', 79.0),\n",
       " ('USC00519397', '2017-06-07', 79.0),\n",
       " ('USC00519397', '2017-06-08', 80.0),\n",
       " ('USC00519397', '2017-06-09', 80.0),\n",
       " ('USC00519397', '2017-06-10', 77.0),\n",
       " ('USC00519397', '2017-06-11', 79.0),\n",
       " ('USC00519397', '2017-06-12', 83.0),\n",
       " ('USC00519397', '2017-06-13', 80.0),\n",
       " ('USC00519397', '2017-06-14', 80.0),\n",
       " ('USC00519397', '2017-06-15', 78.0),\n",
       " ('USC00519397', '2017-06-16', 79.0),\n",
       " ('USC00519397', '2017-06-17', 80.0),\n",
       " ('USC00519397', '2017-06-18', 77.0),\n",
       " ('USC00519397', '2017-06-19', 80.0),\n",
       " ('USC00519397', '2017-06-20', 78.0),\n",
       " ('USC00519397', '2017-06-21', 79.0),\n",
       " ('USC00519397', '2017-06-22', 80.0),\n",
       " ('USC00519397', '2017-06-23', 78.0),\n",
       " ('USC00519397', '2017-06-24', 80.0),\n",
       " ('USC00519397', '2017-06-25', 80.0),\n",
       " ('USC00519397', '2017-06-26', 81.0),\n",
       " ('USC00519397', '2017-06-27', 80.0),\n",
       " ('USC00519397', '2017-06-28', 79.0),\n",
       " ('USC00519397', '2017-06-29', 79.0),\n",
       " ('USC00519397', '2017-06-30', 75.0),\n",
       " ('USC00519397', '2017-07-01', 80.0),\n",
       " ('USC00519397', '2017-07-02', 80.0),\n",
       " ('USC00519397', '2017-07-03', 78.0),\n",
       " ('USC00519397', '2017-07-04', 80.0),\n",
       " ('USC00519397', '2017-07-05', 80.0),\n",
       " ('USC00519397', '2017-07-06', 81.0),\n",
       " ('USC00519397', '2017-07-07', 79.0),\n",
       " ('USC00519397', '2017-07-08', 80.0),\n",
       " ('USC00519397', '2017-07-09', 80.0),\n",
       " ('USC00519397', '2017-07-10', 80.0),\n",
       " ('USC00519397', '2017-07-11', 78.0),\n",
       " ('USC00519397', '2017-07-12', 81.0),\n",
       " ('USC00519397', '2017-07-13', 79.0),\n",
       " ('USC00519397', '2017-07-14', 81.0),\n",
       " ('USC00519397', '2017-07-15', 80.0),\n",
       " ('USC00519397', '2017-07-16', 78.0),\n",
       " ('USC00519397', '2017-07-17', 80.0),\n",
       " ('USC00519397', '2017-07-18', 80.0),\n",
       " ('USC00519397', '2017-07-20', 80.0),\n",
       " ('USC00519397', '2017-07-21', 80.0),\n",
       " ('USC00519397', '2017-07-22', 81.0),\n",
       " ('USC00519397', '2017-07-23', 81.0),\n",
       " ('USC00519397', '2017-07-24', 78.0),\n",
       " ('USC00519397', '2017-07-25', 80.0),\n",
       " ('USC00519397', '2017-07-26', 82.0),\n",
       " ('USC00519397', '2017-07-27', 79.0),\n",
       " ('USC00519397', '2017-07-28', 81.0),\n",
       " ('USC00519397', '2017-07-29', 81.0),\n",
       " ('USC00519397', '2017-07-30', 81.0),\n",
       " ('USC00519397', '2017-07-31', 80.0),\n",
       " ('USC00519397', '2017-08-01', 77.0),\n",
       " ('USC00519397', '2017-08-02', 73.0),\n",
       " ('USC00519397', '2017-08-03', 79.0),\n",
       " ('USC00519397', '2017-08-04', 80.0),\n",
       " ('USC00519397', '2017-08-05', 81.0),\n",
       " ('USC00519397', '2017-08-06', 80.0),\n",
       " ('USC00519397', '2017-08-07', 80.0),\n",
       " ('USC00519397', '2017-08-08', 80.0),\n",
       " ('USC00519397', '2017-08-09', 80.0),\n",
       " ('USC00519397', '2017-08-10', 81.0),\n",
       " ('USC00519397', '2017-08-11', 78.0),\n",
       " ('USC00519397', '2017-08-12', 80.0),\n",
       " ('USC00519397', '2017-08-13', 81.0),\n",
       " ('USC00519397', '2017-08-14', 79.0),\n",
       " ('USC00519397', '2017-08-15', 78.0),\n",
       " ('USC00519397', '2017-08-18', 80.0),\n",
       " ('USC00519397', '2017-08-19', 79.0),\n",
       " ('USC00519397', '2017-08-20', 81.0),\n",
       " ('USC00519397', '2017-08-21', 81.0),\n",
       " ('USC00519397', '2017-08-22', 82.0),\n",
       " ('USC00519397', '2017-08-23', 81.0)]"
      ]
     },
     "execution_count": 26,
     "metadata": {},
     "output_type": "execute_result"
    }
   ],
   "source": [
    "# A query to retrieve the last 12 months of temperature observation data (tobs).\n",
    "# Filter by the station with the highest number of observations.\n",
    "temperature = session.query(Measurement.station, Measurement.date, Measurement.tobs).\\\n",
    "    filter(Measurement.station == 'USC00519397').\\\n",
    "    filter(Measurement.date > last_year).\\\n",
    "    order_by(Measurement.date).all()\n",
    "\n",
    "temperature"
   ]
  },
  {
   "cell_type": "code",
   "execution_count": 29,
   "metadata": {},
   "outputs": [
    {
     "data": {
      "image/png": "[encoded data removed]",
      "text/plain": [
       "<Figure size 1080x720 with 1 Axes>"
      ]
     },
     "metadata": {},
     "output_type": "display_data"
    }
   ],
   "source": [
    "# Plot the results as a histogram with bins=12.\n",
    "\n",
    "measure_df=pd.DataFrame(temperature)\n",
    "hist_plot = measure_df['tobs'].hist(bins=12, figsize=(15,10))\n",
    "plt.xlabel(\"Recorded Temperature\")\n",
    "plt.ylabel(\"Frequency\")\n",
    "plt.title(\"Last 12 Months Station Analysis for Most Active Station\")\n",
    "plt.show()"
   ]
  },
  {
   "cell_type": "code",
   "execution_count": 30,
   "metadata": {},
   "outputs": [
    {
     "name": "stdout",
     "output_type": "stream",
     "text": [
      "[(62.0, 69.57142857142857, 74.0)]\n"
     ]
    }
   ],
   "source": [
    "# Write a function called `calc_temps` that will accept start date and end date in the format '%Y-%m-%d' \n",
    "# and return the minimum, average, and maximum temperatures for that range of dates\n",
    "def calc_temps(start_date, end_date):\n",
    "    \"\"\"TMIN, TAVG, and TMAX for a list of dates.\n",
    "    \n",
    "    Args:\n",
    "        start_date (string): A date string in the format %Y-%m-%d\n",
    "        end_date (string): A date string in the format %Y-%m-%d\n",
    "        \n",
    "    Returns:\n",
    "        TMIN, TAVE, and TMAX\n",
    "    \"\"\"\n",
    "    \n",
    "    return session.query(func.min(Measurement.tobs), func.avg(Measurement.tobs), func.max(Measurement.tobs)).\\\n",
    "        filter(Measurement.date >= start_date).filter(Measurement.date <= end_date).all()\n",
    "print(calc_temps('2012-02-28', '2012-03-05'))"
   ]
  },
  {
   "cell_type": "code",
   "execution_count": 31,
   "metadata": {},
   "outputs": [
    {
     "name": "stdout",
     "output_type": "stream",
     "text": [
      "[(58.0, 73.5421052631579, 83.0)]\n"
     ]
    }
   ],
   "source": [
    "# Use your previous function `calc_temps` to calculate the tmin, tavg, and tmax \n",
    "# for your trip using the previous year's data for those same dates.\n",
    "\n",
    "trip_departure = dt.date(2018, 5, 1)\n",
    "trip_arrival = dt.date(2018, 4, 2)\n",
    "last_year = dt.timedelta(days=365)\n",
    "\n",
    "trip_stat = (calc_temps((trip_arrival - last_year), (trip_departure - last_year)))\n",
    "print(trip_stat)"
   ]
  },
  {
   "cell_type": "code",
   "execution_count": 47,
   "metadata": {},
   "outputs": [
    {
     "data": {
      "image/png": "[encoded data removed]",
      "text/plain": [
       "<Figure size 432x288 with 1 Axes>"
      ]
     },
     "metadata": {},
     "output_type": "display_data"
    }
   ],
   "source": [
    "# Plot the results from your previous query as a bar chart. \n",
    "# Use \"Trip Avg Temp\" as your Title\n",
    "# Use the average temperature for the y value\n",
    "# Use the peak-to-peak (tmax-tmin) value as the y error bar (yerr)\n",
    "\n",
    "average_temp = trip_stat[0][1]\n",
    "minimum_temp = trip_stat[0][0]\n",
    "maximum_temp = trip_stat[0][2]\n",
    "peak_yerr = (maximum_temp - minimum_temp)/2\n",
    "\n",
    "barvalue = [average_temp]\n",
    "xvals = range(len(barvalue))\n",
    "width = 0.35  # the width of the bars\n",
    "\n",
    "fig, ax = plt.subplots()\n",
    "rects = ax.bar(xvals, barvalue, width, color='g', yerr=peak_yerr,\n",
    "              error_kw=dict(elinewidth=6, ecolor='black'))\n",
    "\n",
    "def autolabel(rects):\n",
    "    # attach some text labels\n",
    "    for rect in rects:\n",
    "        height = rect.get_height()\n",
    "        plt.text(rect.get_x()+rect.get_width()/2., .6*height, '%.2f'%float(height),\n",
    "                ha='left', va='top')\n",
    "\n",
    "autolabel(rects)\n",
    "\n",
    "plt.ylim(0, 100)\n",
    "ax.set_xticks([1]) \n",
    "ax.set_xlabel(\"Trip\")\n",
    "ax.set_ylabel(\"Temp (F)\")\n",
    "ax.set_title(\"Trip Avg Temp\")\n",
    "fig.tight_layout()\n",
    "plt.show()"
   ]
  },
  {
   "cell_type": "code",
   "execution_count": 48,
   "metadata": {},
   "outputs": [
    {
     "name": "stdout",
     "output_type": "stream",
     "text": [
      "2017-04-02\n",
      "2017-05-01\n"
     ]
    }
   ],
   "source": [
    "#trip dates - last year\n",
    "trip_arrival_date = trip_arrival - last_year\n",
    "trip_departure_date = trip_departure - last_year\n",
    "\n",
    "print(trip_arrival_date)\n",
    "print(trip_departure_date)"
   ]
  },
  {
   "cell_type": "code",
   "execution_count": 49,
   "metadata": {},
   "outputs": [
    {
     "data": {
      "text/plain": [
       "[('USC00519397', '2017-05-01', 0.07366666666666667, 75.0),\n",
       " ('USC00516128', '2017-05-01', 0.4942857142857144, 73.0),\n",
       " ('USC00519281', '2017-05-01', 0.44799999999999984, 65.0),\n",
       " ('USC00513117', '2017-05-01', 0.3163333333333333, 68.0),\n",
       " ('USC00519523', '2017-05-01', 0.4464, 73.0),\n",
       " ('USC00514830', '2017-05-01', 0.2247826086956522, 78.0),\n",
       " ('USC00517948', '2017-04-28', 0.0, 76.0)]"
      ]
     },
     "execution_count": 49,
     "metadata": {},
     "output_type": "execute_result"
    }
   ],
   "source": [
    "# Calculate the rainfall per weather station for your trip dates using the previous year's matching dates.\n",
    "# Sort this in descending order by precipitation amount and list the station, name, latitude, longitude, and elevation\n",
    "\n",
    "trip_arrival_date = trip_arrival - last_year\n",
    "trip_departure_date = trip_departure - last_year\n",
    "\n",
    "rainfall_trip_data = session.query(Measurement.station, Measurement.date, func.avg(Measurement.prcp), Measurement.tobs).\\\n",
    "                filter(Measurement.date >= trip_arrival_date).\\\n",
    "                filter(Measurement.date <= trip_departure_date).\\\n",
    "                group_by(Measurement.station).\\\n",
    "                order_by(Measurement.prcp.desc()).all()\n",
    "\n",
    "rainfall_trip_data"
   ]
  },
  {
   "cell_type": "code",
   "execution_count": 50,
   "metadata": {},
   "outputs": [
    {
     "data": {
      "text/plain": [
       "[('USC00519523',\n",
       "  'WAIMANALO EXPERIMENTAL FARM, HI US',\n",
       "  21.33556,\n",
       "  -157.71139,\n",
       "  19.5),\n",
       " ('USC00519397', 'WAIKIKI 717.2, HI US', 21.2716, -157.8168, 3.0),\n",
       " ('USC00519281', 'WAIHEE 837.5, HI US', 21.45167, -157.84888999999998, 32.9),\n",
       " ('USC00518838', 'UPPER WAHIAWA 874.3, HI US', 21.4992, -158.0111, 306.6),\n",
       " ('USC00517948', 'PEARL CITY, HI US', 21.3934, -157.9751, 11.9),\n",
       " ('USC00516128', 'MANOA LYON ARBO 785.2, HI US', 21.3331, -157.8025, 152.4),\n",
       " ('USC00514830',\n",
       "  'KUALOA RANCH HEADQUARTERS 886.9, HI US',\n",
       "  21.5213,\n",
       "  -157.8374,\n",
       "  7.0),\n",
       " ('USC00513117', 'KANEOHE 838.1, HI US', 21.4234, -157.8015, 14.6),\n",
       " ('USC00511918', 'HONOLULU OBSERVATORY 702.2, HI US', 21.3152, -157.9992, 0.9)]"
      ]
     },
     "execution_count": 50,
     "metadata": {},
     "output_type": "execute_result"
    }
   ],
   "source": [
    "df_rainfall_stations = session.query(Station.station, Station.name, Station.latitude, Station.longitude, Station.elevation).\\\n",
    "                order_by(Station.station.desc()).all()\n",
    "df_rainfall_stations"
   ]
  },
  {
   "cell_type": "code",
   "execution_count": 51,
   "metadata": {},
   "outputs": [
    {
     "data": {
      "text/html": [
       "<div>\n",
       "<style scoped>\n",
       "    .dataframe tbody tr th:only-of-type {\n",
       "        vertical-align: middle;\n",
       "    }\n",
       "\n",
       "    .dataframe tbody tr th {\n",
       "        vertical-align: top;\n",
       "    }\n",
       "\n",
       "    .dataframe thead th {\n",
       "        text-align: right;\n",
       "    }\n",
       "</style>\n",
       "<table border=\"1\" class=\"dataframe\">\n",
       "  <thead>\n",
       "    <tr style=\"text-align: right;\">\n",
       "      <th></th>\n",
       "      <th>station</th>\n",
       "      <th>name</th>\n",
       "      <th>latitude</th>\n",
       "      <th>longitude</th>\n",
       "      <th>elevation</th>\n",
       "    </tr>\n",
       "  </thead>\n",
       "  <tbody>\n",
       "    <tr>\n",
       "      <th>0</th>\n",
       "      <td>USC00519523</td>\n",
       "      <td>WAIMANALO EXPERIMENTAL FARM, HI US</td>\n",
       "      <td>21.33556</td>\n",
       "      <td>-157.71139</td>\n",
       "      <td>19.5</td>\n",
       "    </tr>\n",
       "    <tr>\n",
       "      <th>1</th>\n",
       "      <td>USC00519397</td>\n",
       "      <td>WAIKIKI 717.2, HI US</td>\n",
       "      <td>21.27160</td>\n",
       "      <td>-157.81680</td>\n",
       "      <td>3.0</td>\n",
       "    </tr>\n",
       "    <tr>\n",
       "      <th>2</th>\n",
       "      <td>USC00519281</td>\n",
       "      <td>WAIHEE 837.5, HI US</td>\n",
       "      <td>21.45167</td>\n",
       "      <td>-157.84889</td>\n",
       "      <td>32.9</td>\n",
       "    </tr>\n",
       "    <tr>\n",
       "      <th>3</th>\n",
       "      <td>USC00518838</td>\n",
       "      <td>UPPER WAHIAWA 874.3, HI US</td>\n",
       "      <td>21.49920</td>\n",
       "      <td>-158.01110</td>\n",
       "      <td>306.6</td>\n",
       "    </tr>\n",
       "    <tr>\n",
       "      <th>4</th>\n",
       "      <td>USC00517948</td>\n",
       "      <td>PEARL CITY, HI US</td>\n",
       "      <td>21.39340</td>\n",
       "      <td>-157.97510</td>\n",
       "      <td>11.9</td>\n",
       "    </tr>\n",
       "    <tr>\n",
       "      <th>5</th>\n",
       "      <td>USC00516128</td>\n",
       "      <td>MANOA LYON ARBO 785.2, HI US</td>\n",
       "      <td>21.33310</td>\n",
       "      <td>-157.80250</td>\n",
       "      <td>152.4</td>\n",
       "    </tr>\n",
       "    <tr>\n",
       "      <th>6</th>\n",
       "      <td>USC00514830</td>\n",
       "      <td>KUALOA RANCH HEADQUARTERS 886.9, HI US</td>\n",
       "      <td>21.52130</td>\n",
       "      <td>-157.83740</td>\n",
       "      <td>7.0</td>\n",
       "    </tr>\n",
       "    <tr>\n",
       "      <th>7</th>\n",
       "      <td>USC00513117</td>\n",
       "      <td>KANEOHE 838.1, HI US</td>\n",
       "      <td>21.42340</td>\n",
       "      <td>-157.80150</td>\n",
       "      <td>14.6</td>\n",
       "    </tr>\n",
       "    <tr>\n",
       "      <th>8</th>\n",
       "      <td>USC00511918</td>\n",
       "      <td>HONOLULU OBSERVATORY 702.2, HI US</td>\n",
       "      <td>21.31520</td>\n",
       "      <td>-157.99920</td>\n",
       "      <td>0.9</td>\n",
       "    </tr>\n",
       "  </tbody>\n",
       "</table>\n",
       "</div>"
      ],
      "text/plain": [
       "       station                                    name  latitude  longitude  \\\n",
       "0  USC00519523      WAIMANALO EXPERIMENTAL FARM, HI US  21.33556 -157.71139   \n",
       "1  USC00519397                    WAIKIKI 717.2, HI US  21.27160 -157.81680   \n",
       "2  USC00519281                     WAIHEE 837.5, HI US  21.45167 -157.84889   \n",
       "3  USC00518838              UPPER WAHIAWA 874.3, HI US  21.49920 -158.01110   \n",
       "4  USC00517948                       PEARL CITY, HI US  21.39340 -157.97510   \n",
       "5  USC00516128            MANOA LYON ARBO 785.2, HI US  21.33310 -157.80250   \n",
       "6  USC00514830  KUALOA RANCH HEADQUARTERS 886.9, HI US  21.52130 -157.83740   \n",
       "7  USC00513117                    KANEOHE 838.1, HI US  21.42340 -157.80150   \n",
       "8  USC00511918       HONOLULU OBSERVATORY 702.2, HI US  21.31520 -157.99920   \n",
       "\n",
       "   elevation  \n",
       "0       19.5  \n",
       "1        3.0  \n",
       "2       32.9  \n",
       "3      306.6  \n",
       "4       11.9  \n",
       "5      152.4  \n",
       "6        7.0  \n",
       "7       14.6  \n",
       "8        0.9  "
      ]
     },
     "execution_count": 51,
     "metadata": {},
     "output_type": "execute_result"
    }
   ],
   "source": [
    "df_rainfall = pd.DataFrame(rainfall_trip_data[:], columns=['station','date','precipitation','temperature'])\n",
    "df_station = pd.DataFrame(df_rainfall_stations[:], columns=['station', 'name', 'latitude', 'longitude', 'elevation'])\n",
    "df_station"
   ]
  },
  {
   "cell_type": "code",
   "execution_count": 52,
   "metadata": {},
   "outputs": [
    {
     "data": {
      "text/html": [
       "<div>\n",
       "<style scoped>\n",
       "    .dataframe tbody tr th:only-of-type {\n",
       "        vertical-align: middle;\n",
       "    }\n",
       "\n",
       "    .dataframe tbody tr th {\n",
       "        vertical-align: top;\n",
       "    }\n",
       "\n",
       "    .dataframe thead th {\n",
       "        text-align: right;\n",
       "    }\n",
       "</style>\n",
       "<table border=\"1\" class=\"dataframe\">\n",
       "  <thead>\n",
       "    <tr style=\"text-align: right;\">\n",
       "      <th></th>\n",
       "      <th>station</th>\n",
       "      <th>name</th>\n",
       "      <th>latitude</th>\n",
       "      <th>longitude</th>\n",
       "      <th>elevation</th>\n",
       "    </tr>\n",
       "  </thead>\n",
       "  <tbody>\n",
       "    <tr>\n",
       "      <th>0</th>\n",
       "      <td>USC00519397</td>\n",
       "      <td>WAIKIKI 717.2, HI US</td>\n",
       "      <td>21.27160</td>\n",
       "      <td>-157.81680</td>\n",
       "      <td>3.0</td>\n",
       "    </tr>\n",
       "    <tr>\n",
       "      <th>1</th>\n",
       "      <td>USC00516128</td>\n",
       "      <td>MANOA LYON ARBO 785.2, HI US</td>\n",
       "      <td>21.33310</td>\n",
       "      <td>-157.80250</td>\n",
       "      <td>152.4</td>\n",
       "    </tr>\n",
       "    <tr>\n",
       "      <th>2</th>\n",
       "      <td>USC00519281</td>\n",
       "      <td>WAIHEE 837.5, HI US</td>\n",
       "      <td>21.45167</td>\n",
       "      <td>-157.84889</td>\n",
       "      <td>32.9</td>\n",
       "    </tr>\n",
       "    <tr>\n",
       "      <th>3</th>\n",
       "      <td>USC00513117</td>\n",
       "      <td>KANEOHE 838.1, HI US</td>\n",
       "      <td>21.42340</td>\n",
       "      <td>-157.80150</td>\n",
       "      <td>14.6</td>\n",
       "    </tr>\n",
       "    <tr>\n",
       "      <th>4</th>\n",
       "      <td>USC00519523</td>\n",
       "      <td>WAIMANALO EXPERIMENTAL FARM, HI US</td>\n",
       "      <td>21.33556</td>\n",
       "      <td>-157.71139</td>\n",
       "      <td>19.5</td>\n",
       "    </tr>\n",
       "    <tr>\n",
       "      <th>5</th>\n",
       "      <td>USC00514830</td>\n",
       "      <td>KUALOA RANCH HEADQUARTERS 886.9, HI US</td>\n",
       "      <td>21.52130</td>\n",
       "      <td>-157.83740</td>\n",
       "      <td>7.0</td>\n",
       "    </tr>\n",
       "    <tr>\n",
       "      <th>6</th>\n",
       "      <td>USC00517948</td>\n",
       "      <td>PEARL CITY, HI US</td>\n",
       "      <td>21.39340</td>\n",
       "      <td>-157.97510</td>\n",
       "      <td>11.9</td>\n",
       "    </tr>\n",
       "  </tbody>\n",
       "</table>\n",
       "</div>"
      ],
      "text/plain": [
       "       station                                    name  latitude  longitude  \\\n",
       "0  USC00519397                    WAIKIKI 717.2, HI US  21.27160 -157.81680   \n",
       "1  USC00516128            MANOA LYON ARBO 785.2, HI US  21.33310 -157.80250   \n",
       "2  USC00519281                     WAIHEE 837.5, HI US  21.45167 -157.84889   \n",
       "3  USC00513117                    KANEOHE 838.1, HI US  21.42340 -157.80150   \n",
       "4  USC00519523      WAIMANALO EXPERIMENTAL FARM, HI US  21.33556 -157.71139   \n",
       "5  USC00514830  KUALOA RANCH HEADQUARTERS 886.9, HI US  21.52130 -157.83740   \n",
       "6  USC00517948                       PEARL CITY, HI US  21.39340 -157.97510   \n",
       "\n",
       "   elevation  \n",
       "0        3.0  \n",
       "1      152.4  \n",
       "2       32.9  \n",
       "3       14.6  \n",
       "4       19.5  \n",
       "5        7.0  \n",
       "6       11.9  "
      ]
     },
     "execution_count": 52,
     "metadata": {},
     "output_type": "execute_result"
    }
   ],
   "source": [
    "result = pd.merge(df_rainfall, df_station, on='station')\n",
    "df_result = result.drop(['date','precipitation','temperature',], 1)\n",
    "df_result"
   ]
  },
  {
   "cell_type": "markdown",
   "metadata": {},
   "source": [
    "## Optional Challenge Assignment"
   ]
  },
  {
   "cell_type": "code",
   "execution_count": 53,
   "metadata": {},
   "outputs": [
    {
     "data": {
      "text/plain": [
       "[(62.0, 69.15384615384616, 77.0)]"
      ]
     },
     "execution_count": 53,
     "metadata": {},
     "output_type": "execute_result"
    }
   ],
   "source": [
    "# Create a query that will calculate the daily normals \n",
    "# (i.e. the averages for tmin, tmax, and tavg for all historic data matching a specific month and day)\n",
    "\n",
    "def daily_normals(date):\n",
    "    \"\"\"Daily Normals.\n",
    "    \n",
    "    Args:\n",
    "        date (str): A date string in the format '%m-%d'\n",
    "        \n",
    "    Returns:\n",
    "        A list of tuples containing the daily normals, tmin, tavg, and tmax\n",
    "    \n",
    "    \"\"\"\n",
    "    \n",
    "    sel = [func.min(Measurement.tobs), func.avg(Measurement.tobs), func.max(Measurement.tobs)]\n",
    "    return session.query(*sel).filter(func.strftime(\"%m-%d\", Measurement.date) == date).all()\n",
    "    \n",
    "daily_normals(\"01-01\")"
   ]
  },
  {
   "cell_type": "code",
   "execution_count": 54,
   "metadata": {},
   "outputs": [],
   "source": [
    "# calculate the daily normals for your trip\n",
    "\n",
    "# push each tuple of calculations into a list called `normals`\n",
    "\n",
    "# Set the start and end date of the trip\n",
    "\n",
    "# Use the start and end date to create a range of dates\n",
    "\n",
    "# Stip off the year and save a list of %m-%d strings\n",
    "\n",
    "# Loop through the list of %m-%d strings and calculate the normals for each date\n"
   ]
  },
  {
   "cell_type": "code",
   "execution_count": 55,
   "metadata": {},
   "outputs": [],
   "source": [
    "# Load the previous query results into a Pandas DataFrame and add the `trip_dates` range as the `date` index\n"
   ]
  },
  {
   "cell_type": "code",
   "execution_count": null,
   "metadata": {},
   "outputs": [],
   "source": [
    "# Plot the daily normals as an area plot with `stacked=False`\n"
   ]
  }
 ],
 "metadata": {
  "kernel_info": {
   "name": "python3"
  },
  "kernelspec": {
   "display_name": "Python 3",
   "language": "python",
   "name": "python3"
  },
  "language_info": {
   "codemirror_mode": {
    "name": "ipython",
    "version": 3
   },
   "file_extension": ".py",
   "mimetype": "text/x-python",
   "name": "python",
   "nbconvert_exporter": "python",
   "pygments_lexer": "ipython3",
   "version": "3.6.5"
  },
  "nteract": {
   "version": "0.9.1"
  },
  "varInspector": {
   "cols": {
    "lenName": 16,
    "lenType": 16,
    "lenVar": 40
   },
   "kernels_config": {
    "python": {
     "delete_cmd_postfix": "",
     "delete_cmd_prefix": "del ",
     "library": "var_list.py",
     "varRefreshCmd": "print(var_dic_list())"
    },
    "r": {
     "delete_cmd_postfix": ") ",
     "delete_cmd_prefix": "rm(",
     "library": "var_list.r",
     "varRefreshCmd": "cat(var_dic_list()) "
    }
   },
   "types_to_exclude": [
    "module",
    "function",
    "builtin_function_or_method",
    "instance",
    "_Feature"
   ],
   "window_display": false
  }
 },
 "nbformat": 4,
 "nbformat_minor": 2
}
